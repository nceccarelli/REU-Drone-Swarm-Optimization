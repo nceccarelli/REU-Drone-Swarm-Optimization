{
 "cells": [
  {
   "cell_type": "code",
   "execution_count": 47,
   "metadata": {},
   "outputs": [],
   "source": [
    "import numpy as np"
   ]
  },
  {
   "cell_type": "code",
   "execution_count": 130,
   "metadata": {},
   "outputs": [],
   "source": [
    "#parameters\n",
    "l = 0.125\n",
    "Dt = 14\n",
    "Dr = 5\n",
    "Pt = -10\n",
    "Pr = -70\n",
    "aperature_angle = 60"
   ]
  },
  {
   "cell_type": "code",
   "execution_count": 131,
   "metadata": {},
   "outputs": [],
   "source": [
    "#convert angle in degrees to radians\n",
    "theta = aperature_angle*(np.pi/180)\n",
    "\n",
    "#calculations\n",
    "height = 0.125 / (4 * np.pi * 10**((Pr-(Pt+Dt+Dr))/20))\n",
    "coverage_radius = height * np.tan(theta)"
   ]
  },
  {
   "cell_type": "code",
   "execution_count": 132,
   "metadata": {},
   "outputs": [
    {
     "name": "stdout",
     "output_type": "stream",
     "text": [
      "Height: 88.65437021204667\n",
      "Coverage Radius: 153.5538735202856\n"
     ]
    }
   ],
   "source": [
    "print(\"Height: \" + str(height))\n",
    "print(\"Coverage Radius: \" + str(coverage_radius))"
   ]
  },
  {
   "cell_type": "code",
   "execution_count": null,
   "metadata": {},
   "outputs": [],
   "source": []
  }
 ],
 "metadata": {
  "kernelspec": {
   "display_name": "Python 3",
   "language": "python",
   "name": "python3"
  },
  "language_info": {
   "codemirror_mode": {
    "name": "ipython",
    "version": 3
   },
   "file_extension": ".py",
   "mimetype": "text/x-python",
   "name": "python",
   "nbconvert_exporter": "python",
   "pygments_lexer": "ipython3",
   "version": "3.7.3"
  }
 },
 "nbformat": 4,
 "nbformat_minor": 2
}
