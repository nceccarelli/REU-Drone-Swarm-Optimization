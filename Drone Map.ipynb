{
 "cells": [
  {
   "cell_type": "code",
   "execution_count": 169,
   "metadata": {},
   "outputs": [],
   "source": [
    "import numpy as np\n",
    "import matplotlib.pyplot as plt\n",
    "import matplotlib\n",
    "from matplotlib.patches import Polygon, Circle\n",
    "from matplotlib.collections import PatchCollection\n",
    "from shapely.geometry import Point as ShapelyPoint\n",
    "from shapely.geometry.polygon import Polygon as ShapelyPolygon"
   ]
  },
  {
   "cell_type": "code",
   "execution_count": 170,
   "metadata": {},
   "outputs": [],
   "source": [
    "#The functions below make it easier to understand what information is being retrieved later in the code\n",
    "#defines the value to use for max() to get third entity\n",
    "def get_mult(ent):\n",
    "    return ent[2]\n",
    "#defines the value to use for max() to get second entity\n",
    "def get_y(ent):\n",
    "    return ent[1]\n",
    "#defines the value to use for max() to get first entity\n",
    "def get_x(ent):\n",
    "    return ent[0]\n",
    "def get_best_score(ent):\n",
    "    return ent[0]\n",
    "def get_best_index(ent):\n",
    "    return ent[1]"
   ]
  },
  {
   "cell_type": "code",
   "execution_count": 171,
   "metadata": {},
   "outputs": [],
   "source": [
    "#Stores the list of drones for output; empty until filled by the algorithm\n",
    "drone_list = []"
   ]
  },
  {
   "cell_type": "code",
   "execution_count": 172,
   "metadata": {},
   "outputs": [
    {
     "name": "stdout",
     "output_type": "stream",
     "text": [
      "Minimum Coverage: 100%\n"
     ]
    }
   ],
   "source": [
    "#Minimum coverage needed to be provided by the algorithm\n",
    "#Format: decimal (1 = 100% coverage)\n",
    "min_coverage = 1\n",
    "print(\"Minimum Coverage: \" + str(min_coverage * 100) + \"%\")"
   ]
  },
  {
   "cell_type": "code",
   "execution_count": 173,
   "metadata": {},
   "outputs": [
    {
     "name": "stdout",
     "output_type": "stream",
     "text": [
      "Height: 88 meters\n",
      "Coverage Radius: 153 meters\n"
     ]
    }
   ],
   "source": [
    "#The section below calculates the height and coverage radiuof the network module on the drone\n",
    "#Parameters for the caclulation:\n",
    "wavelength = 0.125\n",
    "directivity_transmitter_dBi = 14\n",
    "directivity_reciever_dBi = 5\n",
    "power_transmitter_dBm = -10\n",
    "power_reciever_dBm = -70\n",
    "aperature_angle = 60\n",
    "\n",
    "#convert angle in degrees to radians\n",
    "theta = aperature_angle*(np.pi/180)\n",
    "\n",
    "#calculations\n",
    "height = wavelength / (4 * np.pi * 10**((power_reciever_dBm - \n",
    "                                         (power_transmitter_dBm + directivity_transmitter_dBi + \n",
    "                                          directivity_reciever_dBi))/20))\n",
    "coverage_radius = int(height * np.tan(theta))\n",
    "height = int(height)\n",
    "\n",
    "print(\"Height: \" + str(height) + \" meters\")\n",
    "print(\"Coverage Radius: \" + str(coverage_radius) + \" meters\")"
   ]
  },
  {
   "cell_type": "code",
   "execution_count": 174,
   "metadata": {},
   "outputs": [
    {
     "name": "stdout",
     "output_type": "stream",
     "text": [
      "Number of drones in swarm: 1\n"
     ]
    }
   ],
   "source": [
    "#should be calculated from another function - yet to be created\n",
    "#number of drones in each member of the population (each map)\n",
    "num_drones = 1\n",
    "print(\"Number of drones in swarm: \" + str(num_drones))"
   ]
  },
  {
   "cell_type": "code",
   "execution_count": 175,
   "metadata": {},
   "outputs": [
    {
     "name": "stdout",
     "output_type": "stream",
     "text": [
      "Population size for genetic algorithm: 500\n"
     ]
    }
   ],
   "source": [
    "#population size for GA\n",
    "pop_size = 500\n",
    "print(\"Population size for genetic algorithm: \" + str(pop_size))"
   ]
  },
  {
   "cell_type": "code",
   "execution_count": 176,
   "metadata": {},
   "outputs": [
    {
     "name": "stdout",
     "output_type": "stream",
     "text": [
      "Mutation rate for genetic algorithm: 1.0%\n"
     ]
    }
   ],
   "source": [
    "#mutation rate for GA\n",
    "#Format: decimal (1 = 100% coverage)\n",
    "mutation_rate = 0.01\n",
    "print(\"Mutation rate for genetic algorithm: \" + str(mutation_rate * 100) + \"%\")"
   ]
  },
  {
   "cell_type": "code",
   "execution_count": 177,
   "metadata": {},
   "outputs": [],
   "source": [
    "#holds best fitness info\n",
    "    #includes fitness score and index in population, respectively\n",
    "best_fitness = (0, -1)"
   ]
  },
  {
   "cell_type": "code",
   "execution_count": 178,
   "metadata": {},
   "outputs": [],
   "source": [
    "#list of vertices in the polygon (in order of drawing)\n",
    "#also calculates the minimum and maximum x and y values for the polygon\n",
    "map_vertex_list = np.array([(0,0), (0, 1000), (1000,1000),(1000,0)])\n",
    "xmin = get_x(min(map_vertex_list, key=get_x))\n",
    "xmax = get_x(max(map_vertex_list, key=get_x))\n",
    "ymin = get_y(min(map_vertex_list, key=get_y))\n",
    "ymax = get_y(max(map_vertex_list, key=get_y))"
   ]
  },
  {
   "cell_type": "code",
   "execution_count": 179,
   "metadata": {},
   "outputs": [
    {
     "name": "stdout",
     "output_type": "stream",
     "text": [
      "Total users in this map: 78\n"
     ]
    }
   ],
   "source": [
    "#list of \"hot spots\" \n",
    "#format: (x coordinate, y coordinate, multiplicity - number of users at that location)\n",
    "tot_users = 0\n",
    "map_density_list = np.array([(100,100,5), (1000, 300, 4), (400, 800, 10), (600, 550, 3), (900, 0, 9), (150,150,1), (650, 650, 1), (700, 700, 10), (690, 80, 15), (750, 100, 5), (50, 50, 5), (1000,400, 10)])\n",
    "for (_,_,u) in map_density_list:\n",
    "    tot_users += u\n",
    "print(\"Total users in this map: \" + str(tot_users))"
   ]
  },
  {
   "cell_type": "code",
   "execution_count": 180,
   "metadata": {},
   "outputs": [
    {
     "name": "stdout",
     "output_type": "stream",
     "text": [
      "Optimal fitness: 78\n"
     ]
    }
   ],
   "source": [
    "#fitness to strive for with GA\n",
    "optimal_fitness = tot_users * min_coverage\n",
    "print(\"Optimal fitness: \" + str(optimal_fitness))"
   ]
  },
  {
   "cell_type": "code",
   "execution_count": 181,
   "metadata": {},
   "outputs": [],
   "source": [
    "#Creates two polygon objects used for later calculations\n",
    "map_poly = Polygon(map_vertex_list, True)\n",
    "shapely_poly = ShapelyPolygon(map_vertex_list)"
   ]
  },
  {
   "cell_type": "code",
   "execution_count": 182,
   "metadata": {},
   "outputs": [],
   "source": [
    "#checks if a point is within the map polygon\n",
    "#returns boolean: true or false\n",
    "def polygon_contains_point(point):\n",
    "    point_to_check = ShapelyPoint(get_x(point), get_y(point))\n",
    "    return shapely_poly.contains(point_to_check)"
   ]
  },
  {
   "cell_type": "code",
   "execution_count": 183,
   "metadata": {},
   "outputs": [],
   "source": [
    "#draws appropriate map - make more flexible with different polygons\n",
    "def draw_map(map_vertex_list, map_density_list, drone_list):\n",
    "    \n",
    "    patches = [map_poly]\n",
    "    \n",
    "    max_mult = get_mult(max(map_density_list, key=get_mult))\n",
    "    #the following only runs after the computation has taken place and the drone positions have been calculated\n",
    "    #handle drone selection circles\n",
    "    for coord in drone_list:\n",
    "\n",
    "        temp_circle = Circle(coord, radius=coverage_radius)\n",
    "        patches.append(temp_circle)\n",
    "\n",
    "    fig, ax = plt.subplots()\n",
    "    p = PatchCollection(patches, cmap=matplotlib.cm.jet, alpha=0.4)\n",
    "    ax.add_collection(p)\n",
    "\n",
    "    for coord in drone_list:\n",
    "        plt.scatter(get_x(coord),get_y(coord),c='b')\n",
    "    \n",
    "    for (x, y, m) in map_density_list:\n",
    "        if (m/max_mult) <= (1/3):\n",
    "            plt.scatter(x, y, c='g')\n",
    "        elif (m/max_mult) <= (2/3):\n",
    "            plt.scatter(x, y, c='y')\n",
    "        else:\n",
    "            plt.scatter(x, y, c='r')\n",
    "            \n",
    "            \n",
    "    plt.axis([xmin-10,xmax+10,ymin-10,ymax+10])\n",
    "    plt.axis('scaled')\n",
    "    plt.show()"
   ]
  },
  {
   "cell_type": "code",
   "execution_count": 184,
   "metadata": {},
   "outputs": [
    {
     "data": {
      "image/png": "[encoded data removed]",
      "text/plain": [
       "<Figure size 432x288 with 1 Axes>"
      ]
     },
     "metadata": {
      "needs_background": "light"
     },
     "output_type": "display_data"
    }
   ],
   "source": [
    "draw_map(map_vertex_list, map_density_list, drone_list)"
   ]
  },
  {
   "cell_type": "code",
   "execution_count": 185,
   "metadata": {},
   "outputs": [],
   "source": [
    "#GA SETUP\n",
    "\n",
    "def setup():\n",
    "    global population, drone_list, best_fitness\n",
    "    drone_liat = []\n",
    "    population = []\n",
    "    best_fitness = (-1, 0)\n",
    "\n",
    "    #fills population with pop_size random but appropriate entries\n",
    "    for _ in range(pop_size):\n",
    "        temp_pop = []\n",
    "        for _ in range(num_drones):\n",
    "            add_to_pop = (np.random.randint(xmin, xmax), np.random.randint(ymin,ymax))\n",
    "            while (not polygon_contains_point(add_to_pop)):\n",
    "                add_to_pop = (np.random.randint(xmin, xmax), np.random.randint(ymin,ymax))\n",
    "            temp_pop.append(add_to_pop)\n",
    "\n",
    "        population.append(temp_pop)\n",
    "setup()"
   ]
  },
  {
   "cell_type": "code",
   "execution_count": 186,
   "metadata": {},
   "outputs": [],
   "source": [
    "#GA DRAW formulas"
   ]
  },
  {
   "cell_type": "code",
   "execution_count": 187,
   "metadata": {},
   "outputs": [],
   "source": [
    "#append the fitness to every proposed map in population\n",
    "    #fitness is defined as the number of users covered under a given map\n",
    "def fitness():\n",
    "    global best_fitness, population\n",
    "    adj_population = []\n",
    "    index = -1\n",
    "    for proposed_map in population:\n",
    "        score = 0\n",
    "        cluster_exclusion_list = []\n",
    "        for drone in proposed_map:\n",
    "\n",
    "            for (x, y, m) in map_density_list:\n",
    "                hot_spot = (x, y, m)\n",
    "                dist = np.sqrt((get_x(hot_spot)-get_x(drone))**2 + (get_y(hot_spot)-get_y(drone))**2)\n",
    "                if (dist <= coverage_radius and (hot_spot not in cluster_exclusion_list)):\n",
    "                    cluster_exclusion_list.append(hot_spot)\n",
    "                    for _ in range(get_mult(hot_spot)):\n",
    "                        adj_population.append(proposed_map)\n",
    "                    score += get_mult(hot_spot)\n",
    "        index += 1\n",
    "        if (score >= get_best_score(best_fitness)):\n",
    "            best_fitness = (score, index)\n",
    "    return adj_population"
   ]
  },
  {
   "cell_type": "code",
   "execution_count": 188,
   "metadata": {},
   "outputs": [],
   "source": [
    "#Computes the next generation for the GA\n",
    "#also handles mutation\n",
    "def draw(adj_population):\n",
    "    global population\n",
    "    population = []\n",
    "    mutation_check = 0\n",
    "    for n in range(pop_size):\n",
    "        add_to_pop = []\n",
    "        for m in range(num_drones):\n",
    "            rand1 = np.random.randint(0, len(adj_population))\n",
    "            rand2 = np.random.randint(0, len(adj_population))\n",
    "            \n",
    "            \n",
    "            if (mutation_check == 1/mutation_rate):\n",
    "                mut_rand = np.random.randint(0,2)\n",
    "                if (mut_rand == 0):\n",
    "                    add_to_pop.append((np.random.randint(xmin, xmax), get_y(adj_population[rand2][m])))\n",
    "                else:\n",
    "                    add_to_pop.append((get_x(adj_population[rand1][m]), np.random.randint(ymin, ymax)))\n",
    "                mutation_check = 0\n",
    "            else:\n",
    "                add_to_pop.append((get_x(adj_population[rand1][m]), get_y(adj_population[rand2][m])))\n",
    "        \n",
    "        mutation_check += 1\n",
    "        population.append(add_to_pop)"
   ]
  },
  {
   "cell_type": "code",
   "execution_count": 189,
   "metadata": {},
   "outputs": [],
   "source": [
    "def illustrate_final():\n",
    "    global drone_list, population, best_fitness\n",
    "    drone_list = population[get_best_index(best_fitness)]\n",
    "    list_ = [list(elem) for elem in population[get_best_index(best_fitness)]]\n",
    "    for tup in list_:\n",
    "        tup.append(height)\n",
    "    print(\"\\nBest fitness: \" + str(get_best_score(best_fitness)) + \" \\nProposed Map: \" + str(list_))\n",
    "    #illustrate solution\n",
    "    draw_map(map_vertex_list, map_density_list, drone_list)"
   ]
  },
  {
   "cell_type": "code",
   "execution_count": 190,
   "metadata": {},
   "outputs": [],
   "source": [
    "def illustrate_intermediate():\n",
    "    global best_fitness, num_drones\n",
    "    if (num_drones == 1):\n",
    "        print(str(num_drones) + \" drone failed | Best fitness: \" + str(get_best_score(best_fitness)) + \" \\nContinuing with \" + str(num_drones+1) + \" drones\")\n",
    "    else:\n",
    "        print(str(num_drones) + \" drones failed | Best fitness: \" + str(get_best_score(best_fitness)) + \" \\nContinuing with \" + str(num_drones+1) + \" drones\")"
   ]
  },
  {
   "cell_type": "code",
   "execution_count": 191,
   "metadata": {},
   "outputs": [
    {
     "name": "stdout",
     "output_type": "stream",
     "text": [
      "1 drone failed | Best fitness: 29 \n",
      "Continuing with 2 drones\n",
      "2 drones failed | Best fitness: 43 \n",
      "Continuing with 3 drones\n",
      "3 drones failed | Best fitness: 57 \n",
      "Continuing with 4 drones\n",
      "4 drones failed | Best fitness: 68 \n",
      "Continuing with 5 drones\n",
      "\n",
      "Best fitness: 78 \n",
      "Proposed Map: [[788, 44, 88], [674, 657, 88], [404, 663, 88], [948, 337, 88], [133, 82, 88]]\n"
     ]
    },
    {
     "data": {
      "image/png": "[encoded data removed]",
      "text/plain": [
       "<Figure size 432x288 with 1 Axes>"
      ]
     },
     "metadata": {
      "needs_background": "light"
     },
     "output_type": "display_data"
    }
   ],
   "source": [
    "#loop for GA\n",
    "\n",
    "#optimize: instead of max iterations, use for how many generations the fitness stays the same \n",
    "#(score stays the same for 50 iterations, move on)\n",
    "\n",
    "while(get_best_score(best_fitness) < optimal_fitness):\n",
    "    setup()\n",
    "    same_fitness_count = 0\n",
    "    fit = fitness()\n",
    "    #makes calculation time a function of these 2 variables\n",
    "    #allows for more iterations for harder solutions\n",
    "    calc_limit = num_drones * len(map_density_list) \n",
    "    while(get_best_score(best_fitness) < optimal_fitness and same_fitness_count < calc_limit):\n",
    "        prev_fitness = get_best_score(best_fitness)\n",
    "        draw(fit)\n",
    "        fit = fitness()\n",
    "        if (get_best_score(best_fitness) == prev_fitness):\n",
    "            same_fitness_count += 1\n",
    "        else:\n",
    "            same_fitness_score = 0\n",
    "    if (get_best_score(best_fitness) < optimal_fitness):\n",
    "        illustrate_intermediate()\n",
    "    num_drones += 1\n",
    "illustrate_final()\n"
   ]
  },
  {
   "cell_type": "code",
   "execution_count": 24,
   "metadata": {},
   "outputs": [],
   "source": [
    "#OLD loop for GA\n",
    "# fit = fitness()\n",
    "# it = 0\n",
    "# while(get_best_score(best_fitness) < optimal_fitness):\n",
    "#     draw(fit)\n",
    "#     print(\"Best score: \" + str(get_best_score(best_fitness)) + \" | Proposed Map: \" + str(population[get_best_index(best_fitness)]))\n",
    "#     fit = fitness()\n",
    "#     it += 1\n",
    "# print(\"Best score: \" + str(get_best_score(best_fitness)) + \" | Proposed Map: \" + str(population[get_best_index(best_fitness)]))\n",
    "# print(\"total generations: \" + str(it))"
   ]
  },
  {
   "cell_type": "code",
   "execution_count": null,
   "metadata": {},
   "outputs": [],
   "source": []
  }
 ],
 "metadata": {
  "kernelspec": {
   "display_name": "Python 3",
   "language": "python",
   "name": "python3"
  },
  "language_info": {
   "codemirror_mode": {
    "name": "ipython",
    "version": 3
   },
   "file_extension": ".py",
   "mimetype": "text/x-python",
   "name": "python",
   "nbconvert_exporter": "python",
   "pygments_lexer": "ipython3",
   "version": "3.7.3"
  }
 },
 "nbformat": 4,
 "nbformat_minor": 2
}
