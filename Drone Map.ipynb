{
 "cells": [
  {
   "cell_type": "code",
   "execution_count": 2868,
   "metadata": {},
   "outputs": [],
   "source": [
    "import numpy as np\n",
    "import matplotlib.pyplot as plt\n",
    "import matplotlib\n",
    "from matplotlib.patches import Polygon, Circle\n",
    "from matplotlib.collections import PatchCollection\n",
    "from shapely.geometry import Point as ShapelyPoint\n",
    "from shapely.geometry.polygon import Polygon as ShapelyPolygon"
   ]
  },
  {
   "cell_type": "raw",
   "metadata": {},
   "source": [
    "The functions below make it easier to understand what information is being retrieved later in the code"
   ]
  },
  {
   "cell_type": "code",
   "execution_count": 2869,
   "metadata": {},
   "outputs": [],
   "source": [
    "#defines the value to use for max() to get third entity\n",
    "def get_mult(ent):\n",
    "    return ent[2]\n",
    "#defines the value to use for max() to get second entity\n",
    "def get_y(ent):\n",
    "    return ent[1]\n",
    "#defines the value to use for max() to get first entity\n",
    "def get_x(ent):\n",
    "    return ent[0]\n",
    "def get_best_score(ent):\n",
    "    return ent[0]\n",
    "def get_best_index(ent):\n",
    "    return ent[1]"
   ]
  },
  {
   "cell_type": "code",
   "execution_count": 2870,
   "metadata": {},
   "outputs": [],
   "source": [
    "#empty until populated by algorithm\n",
    "drone_list = []"
   ]
  },
  {
   "cell_type": "code",
   "execution_count": 2871,
   "metadata": {},
   "outputs": [],
   "source": [
    "#decimal or 1 for 100%\n",
    "min_coverage = 1"
   ]
  },
  {
   "cell_type": "code",
   "execution_count": 2872,
   "metadata": {},
   "outputs": [
    {
     "name": "stdout",
     "output_type": "stream",
     "text": [
      "Height: 88.65437021204667\n",
      "Coverage Radius: 153.5538735202856\n"
     ]
    }
   ],
   "source": [
    "#calculate height of drone and coverage radius\n",
    "#parameters\n",
    "wavelength = 0.125\n",
    "directivity_transmitter_dBi = 14\n",
    "directivity_reciever_dBi = 5\n",
    "power_transmitter_dBm = -10\n",
    "power_reciever_dBm = -70\n",
    "aperature_angle = 60\n",
    "\n",
    "#convert angle in degrees to radians\n",
    "theta = aperature_angle*(np.pi/180)\n",
    "\n",
    "#calculations\n",
    "height = wavelength / (4 * np.pi * 10**((power_reciever_dBm - \n",
    "                                         (power_transmitter_dBm + directivity_transmitter_dBi + \n",
    "                                          directivity_reciever_dBi))/20))\n",
    "coverage_radius = height * np.tan(theta)\n",
    "\n",
    "print(\"Height: \" + str(height))\n",
    "print(\"Coverage Radius: \" + str(coverage_radius))\n",
    "\n",
    "#just for examples\n",
    "coverage_radius = 10"
   ]
  },
  {
   "cell_type": "code",
   "execution_count": 2873,
   "metadata": {},
   "outputs": [],
   "source": [
    "#should be calculated from another function - yet to be created\n",
    "#number of drones in each member of the population (each map)\n",
    "num_drones = 4"
   ]
  },
  {
   "cell_type": "code",
   "execution_count": 2874,
   "metadata": {},
   "outputs": [],
   "source": [
    "#population size\n",
    "pop_size = 500"
   ]
  },
  {
   "cell_type": "code",
   "execution_count": 2875,
   "metadata": {},
   "outputs": [],
   "source": [
    "#mutation rate\n",
    "mutation_rate = 0.01"
   ]
  },
  {
   "cell_type": "code",
   "execution_count": 2876,
   "metadata": {},
   "outputs": [],
   "source": [
    "#holds best fitness info\n",
    "    #includes fitness score and index in population\n",
    "best_fitness = (0, -1)"
   ]
  },
  {
   "cell_type": "code",
   "execution_count": 2877,
   "metadata": {},
   "outputs": [],
   "source": [
    "#list of vertices in the polygon (in order of drawing)\n",
    "map_vertex_list = np.array([(0,0), (40, 40), (60, 80), (100,100),(100,0)])\n",
    "xmin = get_x(min(map_vertex_list, key=get_x))\n",
    "xmax = get_x(max(map_vertex_list, key=get_x))\n",
    "ymin = get_y(min(map_vertex_list, key=get_y))\n",
    "ymax = get_y(max(map_vertex_list, key=get_y))"
   ]
  },
  {
   "cell_type": "code",
   "execution_count": 2878,
   "metadata": {},
   "outputs": [],
   "source": [
    "#list of \"hot spots\" \n",
    "#format: (x coordinate, y coordinate, multiplicity - number of users at that location)\n",
    "map_density_list = np.array([(10,10,5), (15,15,1), (70, 70, 10), (69, 8, 15), (75, 10, 5), (5, 5, 5), (100, 40, 10)])\n",
    "tot_users = 0\n",
    "for (_,_,u) in map_density_list:\n",
    "    tot_users += u"
   ]
  },
  {
   "cell_type": "code",
   "execution_count": 2879,
   "metadata": {},
   "outputs": [
    {
     "name": "stdout",
     "output_type": "stream",
     "text": [
      "Optimal fitness: 51\n"
     ]
    }
   ],
   "source": [
    "#fitness to strive for\n",
    "optimal_fitness = tot_users*min_coverage\n",
    "print(\"Optimal fitness: \" + str(optimal_fitness))"
   ]
  },
  {
   "cell_type": "code",
   "execution_count": 2880,
   "metadata": {},
   "outputs": [],
   "source": [
    "map_poly = Polygon(map_vertex_list, True)\n",
    "shapely_poly = ShapelyPolygon(map_vertex_list)"
   ]
  },
  {
   "cell_type": "code",
   "execution_count": 2881,
   "metadata": {},
   "outputs": [],
   "source": [
    "#checks if a point is within the map polygon\n",
    "def polygon_contains_point(point):\n",
    "    point_to_check = ShapelyPoint(get_x(point), get_y(point))\n",
    "    return shapely_poly.contains(point_to_check)"
   ]
  },
  {
   "cell_type": "code",
   "execution_count": 2882,
   "metadata": {},
   "outputs": [],
   "source": [
    "#draws appropriate map - make more flexible with different polygons, make \n",
    "\n",
    "def draw_map(map_vertex_list, map_density_list, drone_list):\n",
    "    \n",
    "    patches = [map_poly]\n",
    "    \n",
    "    max_mult = get_mult(max(map_density_list, key=get_mult))\n",
    "    #the following only runs after the computation has taken place and the drone positions have been calculated\n",
    "    #handle drone selection circles\n",
    "    for coord in drone_list:\n",
    "\n",
    "        temp_circle = Circle(coord, radius=coverage_radius)\n",
    "        patches.append(temp_circle)\n",
    "\n",
    "    fig, ax = plt.subplots()\n",
    "    p = PatchCollection(patches, cmap=matplotlib.cm.jet, alpha=0.4)\n",
    "    ax.add_collection(p)\n",
    "\n",
    "    for coord in drone_list:\n",
    "        plt.scatter(get_x(coord),get_y(coord),c='b')\n",
    "    \n",
    "    for (x, y, m) in map_density_list:\n",
    "        if (m/max_mult) <= (1/3):\n",
    "            plt.scatter(x, y, c='g')\n",
    "        elif (m/max_mult) <= (2/3):\n",
    "            plt.scatter(x, y, c='y')\n",
    "        else:\n",
    "            plt.scatter(x, y, c='r')\n",
    "            \n",
    "            \n",
    "    plt.axis([xmin-10,xmax+10,ymin-10,ymax+10])\n",
    "    plt.axis('scaled')\n",
    "    plt.show()"
   ]
  },
  {
   "cell_type": "code",
   "execution_count": 2883,
   "metadata": {},
   "outputs": [
    {
     "data": {
      "image/png": "[encoded data removed]",
      "text/plain": [
       "<Figure size 432x288 with 1 Axes>"
      ]
     },
     "metadata": {
      "needs_background": "light"
     },
     "output_type": "display_data"
    }
   ],
   "source": [
    "draw_map(map_vertex_list, map_density_list, drone_list)"
   ]
  },
  {
   "cell_type": "code",
   "execution_count": 2884,
   "metadata": {},
   "outputs": [],
   "source": [
    "#Start of algorithm\n",
    "#SETUP:"
   ]
  },
  {
   "cell_type": "code",
   "execution_count": 2885,
   "metadata": {},
   "outputs": [],
   "source": [
    "population = []"
   ]
  },
  {
   "cell_type": "code",
   "execution_count": 2886,
   "metadata": {},
   "outputs": [],
   "source": [
    "#fills population with pop_size random but appropriate entries\n",
    "def populate():\n",
    "    global population, num_drones\n",
    "    for _ in range(pop_size):\n",
    "        temp_pop = []\n",
    "        for _ in range(num_drones):\n",
    "            add_to_pop = (np.random.randint(xmin, xmax), np.random.randint(ymin,ymax))\n",
    "            while (not polygon_contains_point(add_to_pop)):\n",
    "                add_to_pop = (np.random.randint(xmin, xmax), np.random.randint(ymin,ymax))\n",
    "            temp_pop.append(add_to_pop)\n",
    "            \n",
    "        population.append(temp_pop)"
   ]
  },
  {
   "cell_type": "code",
   "execution_count": 2887,
   "metadata": {},
   "outputs": [],
   "source": [
    "populate()"
   ]
  },
  {
   "cell_type": "code",
   "execution_count": 2888,
   "metadata": {},
   "outputs": [],
   "source": [
    "#DRAW"
   ]
  },
  {
   "cell_type": "code",
   "execution_count": 2889,
   "metadata": {},
   "outputs": [],
   "source": [
    "#append the fitness to every proposed map in population\n",
    "    #fitness is defined as the number of users covered under a given map\n",
    "    #TO DO: make sure drones dont count the same cluster more than once...\n",
    "def fitness():\n",
    "    global best_fitness, population\n",
    "    adj_population = []\n",
    "    index = -1\n",
    "    for proposed_map in population:\n",
    "        score = 0\n",
    "        cluster_exclusion_list = []\n",
    "        for drone in proposed_map:\n",
    "\n",
    "            for (x, y, m) in map_density_list:\n",
    "                dist = np.sqrt((x-drone[0])**2 + (y-drone[1])**2)\n",
    "                #print(drone)\n",
    "                if (dist <= circle_radius and (x, y, m) not in cluster_exclusion_list):\n",
    "                    cluster_exclusion_list.append((x, y, m))\n",
    "                    for _ in range(m):\n",
    "                        adj_population.append(proposed_map)\n",
    "                    score += m\n",
    "        index += 1\n",
    "        if (score >= best_fitness[0]):\n",
    "            best_fitness = (score, index)\n",
    "    return adj_population"
   ]
  },
  {
   "cell_type": "code",
   "execution_count": 2890,
   "metadata": {},
   "outputs": [],
   "source": [
    "def draw(adj_population):\n",
    "    global population\n",
    "    population = []\n",
    "    mutation_check = 0\n",
    "    for n in range(pop_size):\n",
    "        add_to_pop = []\n",
    "        for m in range(num_drones):\n",
    "            rand1 = np.random.randint(0, len(adj_population))\n",
    "            rand2 = np.random.randint(0, len(adj_population))\n",
    "            \n",
    "            \n",
    "            if (mutation_check == 1/mutation_rate):\n",
    "                mut_rand = np.random.randint(0,2)\n",
    "                if (mut_rand == 0):\n",
    "                    add_to_pop.append((np.random.randint(xmin, xmax), get_y(adj_population[rand2][m])))\n",
    "                else:\n",
    "                    add_to_pop.append((get_x(adj_population[rand1][m]), np.random.randint(ymin, ymax)))\n",
    "                mutation_check = 0\n",
    "            else:\n",
    "                add_to_pop.append((get_x(adj_population[rand1][m]), get_y(adj_population[rand2][m])))\n",
    "        \n",
    "        mutation_check += 1\n",
    "        population.append(add_to_pop)"
   ]
  },
  {
   "cell_type": "code",
   "execution_count": 2891,
   "metadata": {},
   "outputs": [
    {
     "name": "stdout",
     "output_type": "stream",
     "text": [
      "Best score: 41 | Proposed Map: [(31, 25), (69, 53), (58, 29), (67, 14)]\n",
      "Best score: 41 | Proposed Map: [(92, 39), (77, 10), (78, 65), (67, 16)]\n",
      "Best score: 41 | Proposed Map: [(67, 23), (78, 28), (75, 28), (71, 74)]\n",
      "Best score: 41 | Proposed Map: [(39, 48), (72, 3), (99, 8), (65, 52)]\n",
      "Best score: 41 | Proposed Map: [(92, 63), (91, 76), (73, 56), (69, 2)]\n",
      "Best score: 41 | Proposed Map: [(50, 39), (77, 9), (74, 46), (68, 28)]\n",
      "Best score: 41 | Proposed Map: [(14, 11), (78, 30), (91, 2), (68, 8)]\n",
      "Best score: 41 | Proposed Map: [(74, 68), (66, 30), (74, 11), (68, 14)]\n",
      "Best score: 41 | Proposed Map: [(50, 63), (11, 7), (67, 2), (83, 77)]\n",
      "Best score: 41 | Proposed Map: [(72, 13), (77, 61), (98, 9), (72, 65)]\n",
      "Best score: 41 | Proposed Map: [(74, 11), (70, 2), (74, 65), (72, 63)]\n",
      "Best score: 50 | Proposed Map: [(73, 68), (74, 18), (93, 11), (75, 5)]\n",
      "Best score: 50 | Proposed Map: [(74, 13), (62, 77), (74, 76), (72, 6)]\n",
      "Best score: 50 | Proposed Map: [(80, 12), (98, 9), (66, 2), (86, 65)]\n",
      "Best score: 50 | Proposed Map: [(74, 2), (90, 13), (99, 78), (74, 36)]\n",
      "Best score: 50 | Proposed Map: [(74, 16), (72, 10), (74, 65), (70, 16)]\n",
      "Best score: 50 | Proposed Map: [(1, 11), (66, 77), (69, 5), (64, 14)]\n",
      "Best score: 50 | Proposed Map: [(69, 11), (72, 76), (93, 7), (66, 52)]\n",
      "Best score: 50 | Proposed Map: [(74, 70), (72, 63), (74, 77), (55, 13)]\n",
      "Best score: 50 | Proposed Map: [(74, 2), (12, 75), (66, 72), (71, 5)]\n",
      "Best score: 50 | Proposed Map: [(14, 11), (13, 63), (64, 7), (72, 7)]\n",
      "Best score: 50 | Proposed Map: [(74, 4), (72, 4), (64, 5), (70, 5)]\n",
      "Best score: 50 | Proposed Map: [(72, 6), (70, 15), (69, 78), (69, 6)]\n",
      "Best score: 50 | Proposed Map: [(14, 4), (70, 10), (74, 2), (14, 78)]\n",
      "Best score: 50 | Proposed Map: [(1, 11), (66, 2), (69, 11), (86, 70)]\n",
      "Best score: 50 | Proposed Map: [(77, 95), (72, 63), (66, 75), (7, 5)]\n",
      "Best score: 50 | Proposed Map: [(77, 11), (72, 63), (74, 62), (7, 7)]\n",
      "Best score: 50 | Proposed Map: [(14, 11), (63, 5), (70, 62), (75, 5)]\n",
      "Best score: 50 | Proposed Map: [(77, 11), (72, 7), (64, 72), (71, 5)]\n",
      "Best score: 50 | Proposed Map: [(29, 14), (62, 63), (74, 72), (70, 14)]\n",
      "Best score: 50 | Proposed Map: [(77, 6), (72, 9), (74, 63), (66, 77)]\n",
      "Best score: 50 | Proposed Map: [(74, 68), (72, 9), (74, 64), (7, 77)]\n",
      "Best score: 50 | Proposed Map: [(70, 11), (72, 10), (69, 78), (14, 5)]\n",
      "Best score: 50 | Proposed Map: [(69, 2), (63, 76), (74, 73), (7, 5)]\n",
      "Best score: 50 | Proposed Map: [(74, 6), (62, 5), (66, 72), (16, 7)]\n",
      "Best score: 50 | Proposed Map: [(77, 11), (65, 7), (74, 63), (15, 7)]\n",
      "Best score: 50 | Proposed Map: [(69, 14), (71, 7), (74, 73), (7, 7)]\n",
      "Best score: 50 | Proposed Map: [(14, 11), (71, 7), (69, 8), (7, 14)]\n",
      "Best score: 50 | Proposed Map: [(77, 13), (66, 5), (74, 10), (7, 5)]\n",
      "Best score: 50 | Proposed Map: [(14, 13), (73, 5), (74, 73), (7, 14)]\n",
      "Best score: 50 | Proposed Map: [(14, 14), (13, 5), (69, 62), (70, 7)]\n",
      "Best score: 50 | Proposed Map: [(14, 11), (71, 9), (69, 62), (7, 14)]\n",
      "Best score: 50 | Proposed Map: [(67, 4), (66, 5), (74, 62), (7, 7)]\n",
      "Best score: 50 | Proposed Map: [(67, 13), (66, 7), (74, 64), (7, 7)]\n",
      "Best score: 50 | Proposed Map: [(64, 4), (71, 15), (69, 64), (71, 7)]\n",
      "Best score: 50 | Proposed Map: [(72, 13), (13, 5), (74, 76), (7, 5)]\n",
      "Best score: 50 | Proposed Map: [(66, 13), (67, 4), (74, 64), (70, 7)]\n",
      "Best score: 50 | Proposed Map: [(14, 11), (72, 2), (74, 63), (71, 5)]\n",
      "Best score: 50 | Proposed Map: [(77, 16), (71, 9), (69, 62), (66, 5)]\n",
      "Best score: 50 | Proposed Map: [(14, 6), (73, 7), (69, 78), (7, 7)]\n",
      "Best score: 50 | Proposed Map: [(1, 2), (72, 5), (69, 73), (7, 4)]\n",
      "Best score: 50 | Proposed Map: [(14, 13), (66, 9), (69, 72), (7, 4)]\n",
      "Best score: 50 | Proposed Map: [(74, 2), (72, 2), (69, 73), (7, 7)]\n",
      "Best score: 50 | Proposed Map: [(14, 76), (72, 9), (75, 72), (71, 7)]\n",
      "Best score: 50 | Proposed Map: [(77, 11), (71, 9), (74, 73), (7, 7)]\n",
      "Best score: 50 | Proposed Map: [(74, 1), (72, 2), (69, 62), (7, 7)]\n",
      "Best score: 50 | Proposed Map: [(69, 2), (73, 4), (69, 62), (7, 13)]\n",
      "Best score: 50 | Proposed Map: [(77, 11), (72, 5), (69, 72), (7, 5)]\n",
      "Best score: 50 | Proposed Map: [(14, 11), (69, 10), (71, 72), (7, 5)]\n",
      "Best score: 50 | Proposed Map: [(14, 11), (66, 10), (74, 62), (14, 14)]\n",
      "Best score: 50 | Proposed Map: [(14, 11), (67, 4), (71, 73), (71, 14)]\n",
      "Best score: 50 | Proposed Map: [(77, 11), (69, 5), (69, 72), (7, 7)]\n",
      "Best score: 50 | Proposed Map: [(14, 11), (72, 2), (69, 64), (7, 5)]\n",
      "Best score: 50 | Proposed Map: [(60, 2), (72, 10), (69, 63), (7, 7)]\n",
      "Best score: 50 | Proposed Map: [(1, 13), (72, 2), (69, 73), (7, 7)]\n",
      "Best score: 50 | Proposed Map: [(69, 11), (73, 9), (74, 62), (7, 7)]\n",
      "Best score: 50 | Proposed Map: [(53, 13), (72, 10), (69, 76), (7, 7)]\n",
      "Best score: 50 | Proposed Map: [(69, 13), (69, 10), (69, 63), (71, 7)]\n",
      "Best score: 50 | Proposed Map: [(77, 2), (67, 10), (69, 72), (7, 14)]\n",
      "Best score: 50 | Proposed Map: [(71, 11), (72, 2), (69, 63), (7, 7)]\n",
      "Best score: 50 | Proposed Map: [(14, 6), (72, 10), (69, 62), (7, 7)]\n",
      "Best score: 50 | Proposed Map: [(74, 2), (72, 4), (71, 63), (7, 7)]\n",
      "Best score: 50 | Proposed Map: [(69, 13), (69, 10), (74, 73), (7, 14)]\n",
      "Best score: 50 | Proposed Map: [(14, 2), (73, 7), (69, 63), (7, 7)]\n",
      "Best score: 50 | Proposed Map: [(14, 73), (73, 7), (69, 64), (7, 7)]\n",
      "Best score: 50 | Proposed Map: [(14, 2), (71, 2), (74, 64), (7, 7)]\n",
      "Best score: 50 | Proposed Map: [(77, 13), (69, 10), (74, 62), (7, 7)]\n",
      "Best score: 50 | Proposed Map: [(14, 11), (72, 4), (75, 73), (7, 14)]\n",
      "Best score: 51 | Proposed Map: [(94, 36), (72, 7), (74, 62), (7, 14)]\n",
      "total iterations: 78\n"
     ]
    }
   ],
   "source": [
    "fit = fitness()\n",
    "it = 0\n",
    "while(get_best_score(best_fitness) < optimal_fitness):\n",
    "    draw(fit)\n",
    "    print(\"Best score: \" + str(get_best_score(best_fitness)) + \" | Proposed Map: \" + str(population[get_best_index(best_fitness)]))\n",
    "    fit = fitness()\n",
    "    it += 1\n",
    "print(\"Best score: \" + str(get_best_score(best_fitness)) + \" | Proposed Map: \" + str(population[get_best_index(best_fitness)]))\n",
    "print(\"total iterations: \" + str(it))"
   ]
  },
  {
   "cell_type": "code",
   "execution_count": 2892,
   "metadata": {},
   "outputs": [
    {
     "name": "stdout",
     "output_type": "stream",
     "text": [
      "Best score: 51 | Proposed Map: [(94, 36), (72, 7), (74, 62), (7, 14)]\n"
     ]
    },
    {
     "data": {
      "image/png": "[encoded data removed]",
      "text/plain": [
       "<Figure size 432x288 with 1 Axes>"
      ]
     },
     "metadata": {
      "needs_background": "light"
     },
     "output_type": "display_data"
    }
   ],
   "source": [
    "print(\"Best score: \" + str(get_best_score(best_fitness)) + \" | Proposed Map: \" + str(population[get_best_index(best_fitness)]))\n",
    "#illustrate solution\n",
    "drone_list = population[get_best_index(best_fitness)]\n",
    "draw_map(map_vertex_list, map_density_list, drone_list)"
   ]
  },
  {
   "cell_type": "code",
   "execution_count": null,
   "metadata": {},
   "outputs": [],
   "source": []
  },
  {
   "cell_type": "code",
   "execution_count": null,
   "metadata": {},
   "outputs": [],
   "source": []
  },
  {
   "cell_type": "code",
   "execution_count": 2865,
   "metadata": {},
   "outputs": [],
   "source": []
  },
  {
   "cell_type": "code",
   "execution_count": null,
   "metadata": {},
   "outputs": [],
   "source": []
  }
 ],
 "metadata": {
  "kernelspec": {
   "display_name": "Python 3",
   "language": "python",
   "name": "python3"
  },
  "language_info": {
   "codemirror_mode": {
    "name": "ipython",
    "version": 3
   },
   "file_extension": ".py",
   "mimetype": "text/x-python",
   "name": "python",
   "nbconvert_exporter": "python",
   "pygments_lexer": "ipython3",
   "version": "3.7.3"
  }
 },
 "nbformat": 4,
 "nbformat_minor": 2
}
